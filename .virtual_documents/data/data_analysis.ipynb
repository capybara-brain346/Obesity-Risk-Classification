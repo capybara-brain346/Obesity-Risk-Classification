import pandas as pd
import numpy as np
import seaborn as sns
import matplotlib.pyplot as plt


obesity_data = pd.read_csv("train.csv")
obesity_data.head()


obesity_data = obesity_data.drop('id',axis=1)


obesity_data


obesity_data.shape


obesity_data.describe()


obesity_data.isnull().sum()


obesity_data.info()


from sklearn.preprocessing import LabelEncoder
le = LabelEncoder()
def transform_label(feature_name):
    le.fit(obesity_data[feature_name])
    print(le.classes_)
    obesity_data[feature_name] = le.transform(obesity_data[feature_name])


categorical_features = ['Gender','family_history_with_overweight','FAVC','CAEC','SMOKE','SCC','CALC','MTRANS','NObeyesdad']


for i in categorical_features:
    transform_label(i)
obesity_data


sns.heatmap(obesity_data.corr())


obesity_data = obesity_data.drop(['CH2O','NCP','MTRANS','TUE'],axis=1)



obesity_data


obesity_data.to_csv("model_training_data.csv")
