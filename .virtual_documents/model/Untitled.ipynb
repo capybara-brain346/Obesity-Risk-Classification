import pandas as pd
import numpy as np
import matplotlib.pyplot as plt
import seaborn as sns

from sklearn.ensemble import AdaBoostClassifier
from xgboost import XGBClassifier
from sklearn.ensemble import RandomForestClassifier
from sklearn.model_selection import train_test_split
from sklearn.metrics import accuracy_score, confusion_matrix

import pickle


obesity_data = pd.read_csv(r"../data/model_training_data.csv")


obesity_data = obesity_data.drop('Unnamed: 0',axis=1)


obesity_data


model_list = [AdaBoostClassifier(n_estimators=2), RandomForestClassifier(max_depth=3), XGBClassifier(n_estimators=2, max_depth=3, learning_rate=1, objective='binary:logistic')]


x = obesity_data.drop('NObeyesdad',axis=1)
y = obesity_data.NObeyesdad


x_train, x_test, y_train, y_test = train_test_split(x, y, test_size=0.33, random_state=64)


print(x_train.shape, x_test.shape, y_train.shape, y_test.shape)


for model in model_list:
    model.fit(x_train, y_train)
    test_predictions = model.predict(x_test)
    acc_predictions = accuracy_score(y_test, test_predictions)
    print(acc_predictions)    
